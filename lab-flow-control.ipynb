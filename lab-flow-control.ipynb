{
 "cells": [
  {
   "cell_type": "markdown",
   "id": "d3bfc191-8885-42ee-b0a0-bbab867c6f9f",
   "metadata": {
    "tags": []
   },
   "source": [
    "# Lab | Flow Control"
   ]
  },
  {
   "cell_type": "markdown",
   "id": "3851fcd1-cf98-4653-9c89-e003b7ec9400",
   "metadata": {},
   "source": [
    "## Exercise: Managing Customer Orders Optimized\n",
    "\n",
    "In the last lab, you were starting an online store that sells various products. To ensure smooth operations, you developed a program that manages customer orders and inventory.\n",
    "\n",
    "You did so without using flow control. Let's go a step further and improve this code.\n",
    "\n",
    "Follow the steps below to complete the exercise:\n",
    "\n",
    "1. Look at your code from the lab data structures, and improve repeated code with loops.\n",
    "\n",
    "2. Instead of asking the user to input the name of three products that a customer wants to order, do the following:\n",
    "    \n",
    "    a. Prompt the user to enter the name of a product that a customer wants to order.\n",
    "    \n",
    "    b. Add the product name to the \"customer_orders\" set.\n",
    "    \n",
    "    c. Ask the user if they want to add another product (yes/no).\n",
    "    \n",
    "    d. Continue the loop until the user does not want to add another product.\n",
    "\n",
    "3. Instead of updating the inventory by subtracting 1 from the quantity of each product, only do it for  the products that were ordered (those in \"customer_orders\")."
   ]
  },
  {
   "cell_type": "code",
   "execution_count": 148,
   "id": "34dc323f",
   "metadata": {},
   "outputs": [
    {
     "name": "stdout",
     "output_type": "stream",
     "text": [
      "['t-shirt', 'mug', 'hat', 'book', 'keychain']\n"
     ]
    }
   ],
   "source": [
    "products = [\"t-shirt\", \"mug\", \"hat\", \"book\", \"keychain\"]\n",
    "print(products)"
   ]
  },
  {
   "cell_type": "code",
   "execution_count": 149,
   "id": "35527b8e",
   "metadata": {},
   "outputs": [],
   "source": [
    "inventario = {}"
   ]
  },
  {
   "cell_type": "code",
   "execution_count": 150,
   "id": "7e4279cd",
   "metadata": {},
   "outputs": [
    {
     "name": "stdout",
     "output_type": "stream",
     "text": [
      "Introduce la cantidad disponible para cada producto:\n"
     ]
    }
   ],
   "source": [
    "print(\"Introduce la cantidad disponible para cada producto:\")\n",
    "\n",
    "t_shirt = int(input(\"t-shirt: \"))\n",
    "mug= int(input(\"mug: \"))\n",
    "hat = int(input(\"hat: \"))\n",
    "book = int(input(\"book: \"))\n",
    "keychain = int(input(\"keychain: \"))"
   ]
  },
  {
   "cell_type": "code",
   "execution_count": 151,
   "id": "8ff0f591",
   "metadata": {},
   "outputs": [
    {
     "name": "stdout",
     "output_type": "stream",
     "text": [
      "{'t_shirt': 10, 'mug': 10, 'hat': 10, 'book': 10, 'keychain': 10}\n"
     ]
    }
   ],
   "source": [
    "inventario[\"t_shirt\"] = t_shirt\n",
    "inventario[\"mug\"] = mug\n",
    "inventario[\"hat\"] = hat\n",
    "inventario[\"book\"] = book\n",
    "inventario[\"keychain\"] = keychain\n",
    "print(inventario)"
   ]
  },
  {
   "cell_type": "code",
   "execution_count": 165,
   "id": "3b1b5b2c",
   "metadata": {},
   "outputs": [
    {
     "name": "stdout",
     "output_type": "stream",
     "text": [
      "set()\n"
     ]
    }
   ],
   "source": [
    "customer_orders = set()\n",
    "print(customer_orders)"
   ]
  },
  {
   "cell_type": "code",
   "execution_count": 166,
   "id": "2081db2b",
   "metadata": {},
   "outputs": [
    {
     "name": "stdout",
     "output_type": "stream",
     "text": [
      "Elige tres productos de esta lista: t_shirt, mug, hat, book, keychain\n"
     ]
    }
   ],
   "source": [
    "print(\"Elige tres productos de esta lista: t_shirt, mug, hat, book, keychain\")\n",
    "\n",
    "products_1 = input(\"Ingresa el nombre del primer producto que deseas: \")\n",
    "products_2 = input(\"Ingresa el nombre del segundo producto que deseas: \")\n",
    "products_3 = input(\"Ingresa el nombre del tercer producto que deseas: \")"
   ]
  },
  {
   "cell_type": "code",
   "execution_count": 168,
   "id": "44037152",
   "metadata": {},
   "outputs": [],
   "source": [
    "customer_orders.add(products_1)\n",
    "customer_orders.add(products_2)\n",
    "customer_orders.add(products_3)"
   ]
  },
  {
   "cell_type": "code",
   "execution_count": 180,
   "id": "ba3cc92d",
   "metadata": {},
   "outputs": [],
   "source": [
    "customer_orders = {products_1, products_2, products_3}"
   ]
  },
  {
   "cell_type": "code",
   "execution_count": 181,
   "id": "8d57a86e",
   "metadata": {},
   "outputs": [
    {
     "name": "stdout",
     "output_type": "stream",
     "text": [
      "Productos en el pedido del cliente: \n",
      "{'hat', 'book', 'mug'}\n"
     ]
    }
   ],
   "source": [
    "print(\"Productos en el pedido del cliente: \")\n",
    "print(customer_orders)"
   ]
  },
  {
   "cell_type": "code",
   "execution_count": 171,
   "id": "10599c1d",
   "metadata": {},
   "outputs": [],
   "source": [
    "total_products_ordered = len(customer_orders)\n",
    "percentage_ordered = (total_products_ordered * 100) / len(products)\n",
    "order_status = (total_products_ordered, percentage_ordered)"
   ]
  },
  {
   "cell_type": "code",
   "execution_count": 172,
   "id": "b21cf83b",
   "metadata": {},
   "outputs": [
    {
     "name": "stdout",
     "output_type": "stream",
     "text": [
      "Order Status: \n",
      "Total Products Orderer: 3\n",
      "Percentage of Products Orderer: 37.5\n"
     ]
    }
   ],
   "source": [
    "print(\"Order Status: \")\n",
    "print(\"Total Products Orderer:\", order_status[0])\n",
    "print(\"Percentage of Products Orderer:\", order_status[1])"
   ]
  },
  {
   "cell_type": "code",
   "execution_count": 173,
   "id": "29783998",
   "metadata": {},
   "outputs": [
    {
     "name": "stdout",
     "output_type": "stream",
     "text": [
      "{'t_shirt': 10, 'mug': 8, 'hat': 8, 'book': 8, 'keychain': 10}\n"
     ]
    }
   ],
   "source": [
    "inventario[products_1] -= 1\n",
    "inventario[products_2] -= 1\n",
    "inventario[products_3] -= 1\n",
    "\n",
    "print(inventario)"
   ]
  },
  {
   "cell_type": "code",
   "execution_count": 174,
   "id": "6d73a392",
   "metadata": {},
   "outputs": [
    {
     "name": "stdout",
     "output_type": "stream",
     "text": [
      "Bienvenido a la tienda online\n",
      "Productos disponibles: \n",
      " t_shirt\n",
      " mug\n",
      " hat\n",
      " book\n",
      " keychain\n"
     ]
    }
   ],
   "source": [
    "customer_orders = set()\n",
    "\n",
    "print(\"Bienvenido a la tienda online\")\n",
    "print(\"Productos disponibles: \")\n",
    "for products in inventario:\n",
    "    print(f\" {products}\")\n"
   ]
  },
  {
   "cell_type": "code",
   "execution_count": 193,
   "id": "66b16843",
   "metadata": {},
   "outputs": [],
   "source": [
    "products_4 = input(\"Agregue un producto a la cesta: \")"
   ]
  },
  {
   "cell_type": "code",
   "execution_count": 194,
   "id": "3dc7ee00",
   "metadata": {},
   "outputs": [
    {
     "name": "stdout",
     "output_type": "stream",
     "text": [
      "keychain\n"
     ]
    }
   ],
   "source": [
    "print(products_4)"
   ]
  },
  {
   "cell_type": "code",
   "execution_count": 196,
   "id": "0f7d30bc",
   "metadata": {},
   "outputs": [
    {
     "name": "stdout",
     "output_type": "stream",
     "text": [
      "['hat', 'mug', 'book', 'chaqueta', 'patatas', 'ordenadores', 'keychain']\n"
     ]
    }
   ],
   "source": [
    "customer_orders.append(products_4)\n",
    "print(customer_orders)"
   ]
  },
  {
   "cell_type": "code",
   "execution_count": 197,
   "id": "0be45da7",
   "metadata": {},
   "outputs": [
    {
     "name": "stdout",
     "output_type": "stream",
     "text": [
      "Gracias por tu compra\n",
      "Productos en tu carrito: ['hat', 'mug', 'book', 'chaqueta', 'book', 'hat', 'keychain']\n"
     ]
    }
   ],
   "source": [
    "customer_orders = [\"hat\", \"mug\", \"book\", \"chaqueta\"]\n",
    "\n",
    "while True:\n",
    "    products = input(\"Introduce el nombre de un producto que quieres pedir: \")\n",
    "    customer_orders.append(products)\n",
    "\n",
    "    seguir_comprando = input(\"¿Quieres añadir otro producto? (si/no): \").lower()\n",
    "   \n",
    "    if seguir_comprando != \"si\":\n",
    "        print(\"Gracias por tu compra\")\n",
    "        break\n",
    "\n",
    "print(\"Productos en tu carrito:\", customer_orders)                                                                              "
   ]
  },
  {
   "cell_type": "code",
   "execution_count": 199,
   "id": "65186528",
   "metadata": {},
   "outputs": [],
   "source": [
    "customer_orders.remove(\"chaqueta\")"
   ]
  },
  {
   "cell_type": "code",
   "execution_count": 200,
   "id": "dbc3a3eb",
   "metadata": {},
   "outputs": [],
   "source": [
    "for products in customer_orders:\n",
    "    if inventario[products] > 0:\n",
    "        inventario[products] -= 1"
   ]
  },
  {
   "cell_type": "code",
   "execution_count": 201,
   "id": "3dacd11b",
   "metadata": {},
   "outputs": [
    {
     "name": "stdout",
     "output_type": "stream",
     "text": [
      "Resumen del pedido\n",
      "Productos pedidos: ['hat', 'mug', 'book', 'book', 'hat', 'keychain']\n",
      "Inventario actualizado\n",
      "t_shirt: 10\n",
      "mug: 3\n",
      "hat: 2\n",
      "book: 2\n",
      "keychain: 9\n"
     ]
    }
   ],
   "source": [
    "print(\"Resumen del pedido\")\n",
    "print(\"Productos pedidos:\", customer_orders)\n",
    "print(\"Inventario actualizado\")\n",
    "for products, cantidad in inventario.items():\n",
    "    print(f\"{products}: {cantidad}\")"
   ]
  }
 ],
 "metadata": {
  "kernelspec": {
   "display_name": "Python 3",
   "language": "python",
   "name": "python3"
  },
  "language_info": {
   "codemirror_mode": {
    "name": "ipython",
    "version": 3
   },
   "file_extension": ".py",
   "mimetype": "text/x-python",
   "name": "python",
   "nbconvert_exporter": "python",
   "pygments_lexer": "ipython3",
   "version": "3.11.0"
  }
 },
 "nbformat": 4,
 "nbformat_minor": 5
}
